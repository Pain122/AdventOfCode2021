{
 "cells": [
  {
   "cell_type": "code",
   "execution_count": 2,
   "id": "c91e3c03-d913-46d1-8b72-85438e988384",
   "metadata": {},
   "outputs": [],
   "source": [
    "import numpy as np"
   ]
  },
  {
   "cell_type": "markdown",
   "id": "76657e14-1317-4ead-aded-af01bebdb6f1",
   "metadata": {},
   "source": [
    "# Part 1"
   ]
  },
  {
   "cell_type": "code",
   "execution_count": 3,
   "id": "442699b8-9770-4a7a-ba97-578788131ddf",
   "metadata": {},
   "outputs": [
    {
     "data": {
      "text/plain": [
       "1832"
      ]
     },
     "execution_count": 3,
     "metadata": {},
     "output_type": "execute_result"
    }
   ],
   "source": [
    "arr = np.loadtxt('dataset.txt', dtype=np.int)\n",
    "arr = arr[1:] - arr[:-1]\n",
    "sum(arr > 0)"
   ]
  },
  {
   "cell_type": "markdown",
   "id": "789263e9-67fa-487b-bdda-fdcaba01895b",
   "metadata": {},
   "source": [
    "# Part 2"
   ]
  },
  {
   "cell_type": "code",
   "execution_count": 4,
   "id": "c73da852-828d-46a5-9b72-620d12018a0c",
   "metadata": {},
   "outputs": [
    {
     "data": {
      "text/plain": [
       "1858"
      ]
     },
     "execution_count": 4,
     "metadata": {},
     "output_type": "execute_result"
    }
   ],
   "source": [
    "arr = np.loadtxt('dataset.txt', dtype=np.int)\n",
    "arr = arr[2:] + arr[1:-1] + arr[:-2]\n",
    "arr = arr[1:] - arr[:-1]\n",
    "sum(arr > 0)"
   ]
  }
 ],
 "metadata": {
  "kernelspec": {
   "display_name": "Python 3",
   "language": "python",
   "name": "python3"
  },
  "language_info": {
   "codemirror_mode": {
    "name": "ipython",
    "version": 3
   },
   "file_extension": ".py",
   "mimetype": "text/x-python",
   "name": "python",
   "nbconvert_exporter": "python",
   "pygments_lexer": "ipython3",
   "version": "3.8.8"
  }
 },
 "nbformat": 4,
 "nbformat_minor": 5
}
